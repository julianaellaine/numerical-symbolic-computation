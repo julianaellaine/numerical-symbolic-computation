{
  "nbformat": 4,
  "nbformat_minor": 0,
  "metadata": {
    "colab": {
      "provenance": []
    },
    "kernelspec": {
      "name": "python3",
      "display_name": "Python 3"
    },
    "language_info": {
      "name": "python"
    }
  },
  "cells": [
    {
      "cell_type": "markdown",
      "source": [
        "## Laboratory Activity #3: Introduction to SymPy\n",
        "\n",
        "###Objectives:\n",
        "- Apply basic symbolic calculations using SymPy"
      ],
      "metadata": {
        "id": "ry6k4qR8H7Bq"
      }
    },
    {
      "cell_type": "markdown",
      "source": [
        "#### Task # 1: Include all necessary sympy modules\n",
        "\n",
        "\n"
      ],
      "metadata": {
        "id": "G_Ua0LKbIPfK"
      }
    },
    {
      "cell_type": "code",
      "execution_count": 43,
      "metadata": {
        "id": "DPFz-qLYHiFJ"
      },
      "outputs": [],
      "source": [
        "# Import the sympy library\n",
        "import sympy as sym\n",
        "\n",
        "# Import functions from sympy\n",
        "from sympy import (\n",
        "    symbols,            # used for declaring symbolic variable\n",
        "    Eq,                 # for defining symbolic equations\n",
        "    sqrt,               # symbolic square roots\n",
        "    simplify,           # simplify algebraic expressions\n",
        "    expand,             # expand expressions\n",
        "    solve,              # solve equations symbolically\n",
        "    init_printing,      # for display pretty mathematical output in Jupyter or console\n",
        "    Rational,           # create exact rational numbers\n",
        "    Add,                 # so that we can keep the exact form\n",
        "    pretty_print,       # pretty print\n",
        ")\n",
        "\n",
        "# Initialize pretty printing\n",
        "init_printing()"
      ]
    },
    {
      "cell_type": "markdown",
      "source": [
        "#### Task # 2: Basic calculation\n",
        "Solve for the following:\n",
        "\n",
        "- $\\frac{5}{3} + \\frac{\\sqrt{10}}{2}$\n",
        "- $\\sqrt{50} \\times \\sqrt{\\frac{5}{9}}$"
      ],
      "metadata": {
        "id": "3i4pd__LIl1X"
      }
    },
    {
      "cell_type": "code",
      "source": [
        "term1 = Rational(5, 3)\n",
        "term2 = sqrt(10) / 2\n",
        "\n",
        "expr = term1 + term2                                    # symbolic math (not controlling order)\n",
        "expr_ordered = Add(term1, term2, evaluate=False)        # force order sometimes reverse output\n",
        "\n",
        "print(\"Symbolic (as string): (5/3) + sqrt(10)/2\")       # Symbolic output\n",
        "print(\"Approximate value:\", expr.evalf())               # approximation\n",
        "\n",
        "# Answer for the first expression:\n",
        "# Symbolic: (5/3) + sqrt(10)/2\n",
        "# Approximate: ≈ 3.2478\n"
      ],
      "metadata": {
        "id": "Nk9U7XU8RhEH",
        "colab": {
          "base_uri": "https://localhost:8080/"
        },
        "outputId": "6725dba7-cf2e-4edc-ba15-e8bd5b9b3d83"
      },
      "execution_count": 46,
      "outputs": [
        {
          "output_type": "stream",
          "name": "stdout",
          "text": [
            "Symbolic (as string): (5/3) + sqrt(10)/2\n",
            "Approximate value: 3.24780549675086\n"
          ]
        }
      ]
    },
    {
      "cell_type": "code",
      "source": [
        "\n",
        "  expr2 = sqrt(50) * sqrt(Rational(5, 9))\n",
        "  simplified_expr2 = simplify(expr2)\n",
        "  print(simplified_expr2)                 # Output\n",
        "  print(simplified_expr2.evalf())         # Decimal (optional)\n",
        "\n",
        "  # Answer for the second expression:\n",
        "  # Symbolic: (5*sqrt(10))/3\n",
        "  # Approximate: ≈ 5.2705"
      ],
      "metadata": {
        "id": "6baME6J6Rgru",
        "colab": {
          "base_uri": "https://localhost:8080/"
        },
        "outputId": "f9cb7b67-a029-43ae-d1d4-55e4cf86ac57"
      },
      "execution_count": 47,
      "outputs": [
        {
          "output_type": "stream",
          "name": "stdout",
          "text": [
            "5*sqrt(10)/3\n",
            "5.27046276694730\n"
          ]
        }
      ]
    },
    {
      "cell_type": "markdown",
      "source": [
        "#### Task # 3: Symbols\n",
        "Create the equation for the following using `Symbols`:\n",
        "- $2x+3y=12$\n",
        "- $x−y=4$"
      ],
      "metadata": {
        "id": "UH2m4ur7NERn"
      }
    },
    {
      "cell_type": "code",
      "source": [
        "# Answer for the first equation here\n",
        "# Define symbolic variables\n",
        "x, y = symbols('x y')\n",
        "\n",
        "# Create the equation 2x + 3y = 12\n",
        "equation = Eq(2*x + 3*y, 12)\n",
        "print(equation)\n",
        "\n",
        "# Solve the equation\n",
        "solution = solve(equation, [x, y])\n",
        "print(solution)"
      ],
      "metadata": {
        "id": "4RUw45azRejM",
        "colab": {
          "base_uri": "https://localhost:8080/"
        },
        "outputId": "3e0c8acb-fd63-4e27-ce04-350655c47d0c"
      },
      "execution_count": 49,
      "outputs": [
        {
          "output_type": "stream",
          "name": "stdout",
          "text": [
            "Eq(2*x + 3*y, 12)\n",
            "[(6 - 3*y/2, y)]\n"
          ]
        }
      ]
    },
    {
      "cell_type": "code",
      "source": [
        "# Answer for the second equation here\n",
        "x, y = symbols('x y')           # Define symbolic variables\n",
        "\n",
        "equation = Eq(x - y, 4)         # Create the equation x - y = 4\n",
        "print(equation)\n",
        "\n",
        "\n",
        "solution = solve(equation, x)   # Solve the equation for x in terms of y\n",
        "print(solution)"
      ],
      "metadata": {
        "id": "nKlN5AeURwI6",
        "colab": {
          "base_uri": "https://localhost:8080/"
        },
        "outputId": "fb404af4-c04d-4db0-e6f1-19818a9c5f2d"
      },
      "execution_count": 52,
      "outputs": [
        {
          "output_type": "stream",
          "name": "stdout",
          "text": [
            "Eq(x - y, 4)\n",
            "[y + 4]\n"
          ]
        }
      ]
    },
    {
      "cell_type": "markdown",
      "source": [
        "#### Task # 3: Simplification\n",
        "Simplify the following equations using the `simplify` method\n",
        "\n",
        "- $\\frac{x^2 + 2x + 1}{x + 1}$\n",
        "\n",
        "- $\\frac{1 - \\frac{1}{1 + \\frac{1}{x}}}{1 + \\frac{1}{x}}\n",
        "$"
      ],
      "metadata": {
        "id": "IS8vTb7FPDbQ"
      }
    },
    {
      "cell_type": "code",
      "source": [
        "# Simplify the first equation here\n",
        "# Answer for the simplification task here\n",
        "x = symbols('x')                           # Define symbolic variable\n",
        "\n",
        "expr = (x**2 + 2*x + 1) / (x + 1)         # Define the expression (x^2 + 2x + 1) / (x + 1)\n",
        "print(\"Original expression:\", expr)\n",
        "\n",
        "simplified_expr = simplify(expr)           # Simplify the expression\n",
        "print(\"Simplified expression:\", simplified_expr)"
      ],
      "metadata": {
        "id": "38CFQlfxR0TV",
        "colab": {
          "base_uri": "https://localhost:8080/"
        },
        "outputId": "78b488be-8013-4e23-edd4-04b2b50feecf"
      },
      "execution_count": 55,
      "outputs": [
        {
          "output_type": "stream",
          "name": "stdout",
          "text": [
            "Original expression: (x**2 + 2*x + 1)/(x + 1)\n",
            "Simplified expression: x + 1\n"
          ]
        }
      ]
    },
    {
      "cell_type": "code",
      "source": [
        "# Simplify the second equation here\n",
        "# Answer for the simplification task here\n",
        "x = symbols('x')                           # Define symbolic variable\n",
        "\n",
        "expr = 1 + (1/x)/1 + (1/x)                 # Define the expression 1 + (1/x)/1 + (1/x)\n",
        "print(\"Original expression:\", expr)\n",
        "\n",
        "simplified_expr = simplify(expr)           # Simplify the expression\n",
        "print(\"Simplified expression:\", simplified_expr)"
      ],
      "metadata": {
        "id": "fSi0XQcWR2uo",
        "colab": {
          "base_uri": "https://localhost:8080/"
        },
        "outputId": "febcd036-cdd0-4737-9e03-91abea48d680"
      },
      "execution_count": 58,
      "outputs": [
        {
          "output_type": "stream",
          "name": "stdout",
          "text": [
            "Original expression: 1 + 2/x\n",
            "Simplified expression: (x + 2)/x\n"
          ]
        }
      ]
    },
    {
      "cell_type": "markdown",
      "source": [
        "### Task # 4: Expansion\n",
        "Expand the following expressions using the `expand` method\n",
        "- $(2x + 2)^2$\n",
        "- $(2x + y)(x - 2y)$\n"
      ],
      "metadata": {
        "id": "oXI_LJ-hRR_n"
      }
    },
    {
      "cell_type": "code",
      "source": [
        "# Expand the first equation here\n",
        "from sympy import symbols, expand\n",
        "\n",
        "# Declare symbol\n",
        "x = symbols('x')\n",
        "\n",
        "# Define the expression\n",
        "expr1 = (2*x + 2)**2\n",
        "\n",
        "# Expand\n",
        "expanded_expr1 = expand(expr1)\n",
        "\n",
        "# Display\n",
        "print(\"Expanded (2x + 2)^2:\", expanded_expr1)"
      ],
      "metadata": {
        "id": "OwjWp39uS0Jb",
        "colab": {
          "base_uri": "https://localhost:8080/"
        },
        "outputId": "84b717bf-b6aa-4ed4-e564-c99ae3525850"
      },
      "execution_count": 60,
      "outputs": [
        {
          "output_type": "stream",
          "name": "stdout",
          "text": [
            "Expanded (2x + 2)^2: 4*x**2 + 8*x + 4\n"
          ]
        }
      ]
    },
    {
      "cell_type": "code",
      "source": [
        "# Expand the second equation here\n",
        "from sympy import symbols, expand\n",
        "\n",
        "# Declare symbols\n",
        "x, y = symbols('x y')\n",
        "\n",
        "# Define the expression\n",
        "expr2 = (2*x + y)*(x - 2*y)\n",
        "\n",
        "# Expand\n",
        "expanded_expr2 = expand(expr2)\n",
        "\n",
        "# Display\n",
        "print(\"Expanded (2x + y)(x - 2y):\", expanded_expr2)\n"
      ],
      "metadata": {
        "id": "g-QEmoMCS6TH"
      },
      "execution_count": 61,
      "outputs": []
    }
  ]
}